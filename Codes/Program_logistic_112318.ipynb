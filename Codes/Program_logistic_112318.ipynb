{
 "cells": [
  {
   "cell_type": "code",
   "execution_count": 1,
   "metadata": {},
   "outputs": [],
   "source": [
    "import pandas as pd\n",
    "import numpy as np\n",
    "from sklearn.preprocessing import Imputer, LabelEncoder, StandardScaler, scale"
   ]
  },
  {
   "cell_type": "code",
   "execution_count": 2,
   "metadata": {},
   "outputs": [],
   "source": [
    "df = pd.read_csv('./baseline_data.csv',header=0,low_memory=False)"
   ]
  },
  {
   "cell_type": "code",
   "execution_count": 3,
   "metadata": {},
   "outputs": [],
   "source": [
    "Catdata = df.loc[0:,'PTETHCAT':'APOE4'].join(df['PTGENDER']).join(df['imputed_genotype'])\n",
    "for i in Catdata.columns:\n",
    "    the_value = str(Catdata[i].mode().values[0]) # find the most common value in the column\n",
    "    Catdata[i].replace('NaN',the_value,inplace = True)\n",
    "    dummy_data = pd.get_dummies(Catdata[i], prefix=i+\"_\", drop_first=True) # https://www.jianshu.com/p/c324f4101785\n",
    "    Catdata = pd.concat([Catdata, dummy_data], axis=1)\n",
    "    Catdata.drop(i, axis=1, inplace=True)\n",
    "\n",
    "Numdata = [];\n",
    "feature_dis = 25\n",
    "for i in range(feature_dis):\n",
    "    Numdata.append(df.iloc[:,i:2150:feature_dis].join(df['AGE']).join(df['PTEDUCAT']).join(df['MMSE']))\n",
    "#for i in Numdata[10].columns:\n",
    "    #print(i)\n",
    "labels = df['DX.bl']\n",
    "le = LabelEncoder()\n",
    "le.fit(labels) # http://sofasofa.io/forum_main_post.php?postid=1001659\n",
    "labels = le.transform(labels)\n",
    "labels = labels.astype('float') # 1 CN, 0 AD, 2 LMCI\n"
   ]
  },
  {
   "cell_type": "markdown",
   "metadata": {},
   "source": [
    "##########################################\n",
    "data = Numdata[0].join(Catdata)\n",
    "scaler.fit(data)\n",
    "data = pd.DataFrame(scaler.transform(data))\n",
    "X_train, X_test, y_train, y_test = train_test_split(data, labels, test_size = 0.2, random_state = 1)\n",
    "import math\n",
    "acc_train, acc_test, params = [], [], []\n",
    "for c in np.arange(1, 100):\n",
    "    print(c)\n",
    "    logisticRegr1 = LogisticRegression(C=c*0.01, random_state=0)\n",
    "    logisticRegr1.fit(X_train, y_train)\n",
    "    acc_train.append(logisticRegr1.score(X_train,y_train))\n",
    "    acc_test.append(logisticRegr1.score(X_test,y_test))\n",
    "    params.append(c*0.01)"
   ]
  },
  {
   "cell_type": "markdown",
   "metadata": {},
   "source": [
    "import matplotlib.pyplot as plt\n",
    "\n",
    "plt.plot(params, acc_train, color='blue', marker='x', label='training set')\n",
    "plt.plot(params, acc_test, color='green',  marker='o', label='test set')\n",
    "plt.ylabel('Accuray')\n",
    "plt.xlabel('C')\n",
    "plt.legend(loc='right')\n",
    "#plt.xscale('log')\n",
    "plt.show() \n",
    "########################################################"
   ]
  },
  {
   "cell_type": "code",
   "execution_count": 4,
   "metadata": {},
   "outputs": [],
   "source": [
    "from sklearn.model_selection import train_test_split\n",
    "from sklearn.preprocessing import Imputer, LabelEncoder, StandardScaler, scale\n",
    "from sklearn.linear_model import LogisticRegression\n",
    "\n",
    "scaler = StandardScaler()\n",
    "logisticRegr=[]\n",
    "for i in range(feature_dis):\n",
    "    data = Numdata[i].join(Catdata)\n",
    "    scaler.fit(data)\n",
    "    data = pd.DataFrame(scaler.transform(data))\n",
    "    X_train, X_test, y_train, y_test = train_test_split(data, labels, test_size = 0.2, random_state = 2)\n",
    "    logisticRegr.append(LogisticRegression())\n",
    "    logisticRegr[i].fit(X_train,y_train)\n",
    "    # accuracy on train model\n",
    "    #print(logisticRegr[i].score(X_train,y_train))\n",
    "    # accuracy on test model\n",
    "    #print(logisticRegr[i].score(X_test,y_test))"
   ]
  },
  {
   "cell_type": "code",
   "execution_count": 5,
   "metadata": {},
   "outputs": [],
   "source": [
    "y_predict=[]\n",
    "for i in range(feature_dis):\n",
    "    y_predict.append(logisticRegr[i].predict(X_test))\n",
    "YY_predict_all=pd.DataFrame(y_predict)\n",
    "YY_predict=[]\n",
    "for i in YY_predict_all.columns:\n",
    "    the_value = YY_predict_all[i].mode().values[0] # find the most common value in the column\n",
    "    YY_predict.append(the_value)\n",
    "    "
   ]
  },
  {
   "cell_type": "code",
   "execution_count": 6,
   "metadata": {},
   "outputs": [
    {
     "name": "stdout",
     "output_type": "stream",
     "text": [
      "0.6904761904761905\n"
     ]
    }
   ],
   "source": [
    "# accuracy on test model\n",
    "count=0\n",
    "for i in range(len(YY_predict)):\n",
    "    if YY_predict[i]==y_test[i]:\n",
    "        count+=1\n",
    "accuarcy = count/len(YY_predict)\n",
    "print(accuarcy)"
   ]
  }
 ],
 "metadata": {
  "kernelspec": {
   "display_name": "Python 3",
   "language": "python",
   "name": "python3"
  },
  "language_info": {
   "codemirror_mode": {
    "name": "ipython",
    "version": 3
   },
   "file_extension": ".py",
   "mimetype": "text/x-python",
   "name": "python",
   "nbconvert_exporter": "python",
   "pygments_lexer": "ipython3",
   "version": "3.7.0"
  }
 },
 "nbformat": 4,
 "nbformat_minor": 2
}
